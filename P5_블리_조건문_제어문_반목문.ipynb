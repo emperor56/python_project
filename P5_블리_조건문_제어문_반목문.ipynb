{
 "cells": [
  {
   "cell_type": "markdown",
   "metadata": {},
   "source": [
    "### 흐름제어\n",
    "\n",
    "- 코드의 흐름을 변경할려면(분기, 반복등)\n",
    "- 조건을 체크 -> 참. 거짓에 의해 (판정)흐름을 변경\n",
    "- 판정 => 결론은 블린(true/false)\n",
    "- 판정이 작성된 코드을 조건식\n",
    "- 조건문, 반복문, 제어문 식\n",
    "    -조건식 결론 => 참이냐 거짓이냐?\n",
    "        -False 상황 : 0, 0.0, [], {}, () None(값이없다), 기타조건문의 결과(비교, 등등)\n",
    "    -조건식을 가지고 상황따라 움직이는 방식:조건문\n",
    "        -if\n",
    "    -반목문 : 반복작업\n",
    "        -for, while => 여기까지의 지식으로 프로그램을 작성 : 절차적 프로그램"
   ]
  },
  {
   "cell_type": "code",
   "execution_count": null,
   "metadata": {},
   "outputs": [],
   "source": [
    "# 요구사항에서 조건 상황이 몇개인지 체크하여 구현\n",
    "# if ~ elif ~ else\n",
    "# if\n",
    "# if ~ else\n",
    "# if ~ elif\n",
    "# if ~ elif.. ~ else"
   ]
  },
  {
   "cell_type": "code",
   "execution_count": null,
   "metadata": {},
   "outputs": [],
   "source": [
    "# 커피값을 입력받아서 1500원 이상이면 거스름돈을 줘라\n",
    "# 내용은 \"거스름돈(받은금액-1500)은 XX원 입니다.\""
   ]
  },
  {
   "cell_type": "code",
   "execution_count": null,
   "metadata": {},
   "outputs": [],
   "source": [
    "# 1. 커피값을 입력받아서\n",
    "# (정수값 수치로 잘 넣는다고 전제)\n",
    "# 값의 유효성을 체크하지 않겠다\n",
    "coffee_price = int(input('커피값을 주세요'))\n",
    "coffee_price, type(coffee_price)"
   ]
  },
  {
   "cell_type": "code",
   "execution_count": 3,
   "metadata": {},
   "outputs": [
    {
     "ename": "SyntaxError",
     "evalue": "invalid syntax (<ipython-input-3-0b4475d82600>, line 1)",
     "output_type": "error",
     "traceback": [
      "\u001b[1;36m  File \u001b[1;32m\"<ipython-input-3-0b4475d82600>\"\u001b[1;36m, line \u001b[1;32m1\u001b[0m\n\u001b[1;33m    if coffee_price > 1500\u001b[0m\n\u001b[1;37m                           ^\u001b[0m\n\u001b[1;31mSyntaxError\u001b[0m\u001b[1;31m:\u001b[0m invalid syntax\n"
     ]
    }
   ],
   "source": [
    "if coffee_price > 1500 "
   ]
  },
  {
   "cell_type": "code",
   "execution_count": null,
   "metadata": {},
   "outputs": [],
   "source": [
    "# 2. 1500원 이상이면 <= 조건 1개\n",
    "# 문법 => if 조건식:\n",
    "# >, <, <=, >=, == not(부정)\n",
    "# : => 코드블럭이 시작된다\n",
    "# 코드블럭 => 들려쓰기 후 진행(세로줄이 변경됨)\n",
    "# 그 조건이 만족된때만 수행하는 코드\n",
    "if coffee_price > 1500: \n",
    "    # 아무것도 하지 말고 일단 패스(구조잡을때, 실제 않할때)\n",
    "    pass\n"
   ]
  },
  {
   "cell_type": "code",
   "execution_count": null,
   "metadata": {},
   "outputs": [],
   "source": [
    "# 3. 거스름돈은 100원 입니다.\n",
    "coffee_price =int(input('커피값을 주세요'))\n",
    "if coffee_price > 1500:\n",
    "    tmp='거스럼돈은 %s원 입니다.' % (coffee_price-1500)\n",
    "    print( tmp )\n",
    "    pass \n"
   ]
  },
  {
   "cell_type": "markdown",
   "metadata": {},
   "source": [
    "#### 통합코드"
   ]
  },
  {
   "cell_type": "code",
   "execution_count": null,
   "metadata": {},
   "outputs": [],
   "source": [
    "#while True\n",
    "coffee_price =int(input('커피값을 주세요'))\n",
    "if coffee_price > 1500:\n",
    "    tmp='거스럼돈은 %s원 입니다.' % (coffee_price-1500)\n",
    "    print( tmp )\n",
    "    pass "
   ]
  },
  {
   "cell_type": "code",
   "execution_count": null,
   "metadata": {},
   "outputs": [],
   "source": [
    "'''\n",
    "if 조건식:\n",
    "    코드블럭내 코드: statements\n",
    "elif 조건식:  statements\n",
    "else:  statements\n",
    "    "
   ]
  },
  {
   "cell_type": "code",
   "execution_count": null,
   "metadata": {},
   "outputs": [],
   "source": []
  },
  {
   "cell_type": "code",
   "execution_count": null,
   "metadata": {},
   "outputs": [],
   "source": []
  },
  {
   "cell_type": "code",
   "execution_count": null,
   "metadata": {},
   "outputs": [],
   "source": []
  },
  {
   "cell_type": "code",
   "execution_count": null,
   "metadata": {},
   "outputs": [],
   "source": []
  },
  {
   "cell_type": "code",
   "execution_count": null,
   "metadata": {},
   "outputs": [],
   "source": []
  },
  {
   "cell_type": "code",
   "execution_count": null,
   "metadata": {},
   "outputs": [],
   "source": []
  },
  {
   "cell_type": "code",
   "execution_count": null,
   "metadata": {},
   "outputs": [],
   "source": []
  },
  {
   "cell_type": "code",
   "execution_count": null,
   "metadata": {},
   "outputs": [],
   "source": []
  },
  {
   "cell_type": "code",
   "execution_count": null,
   "metadata": {},
   "outputs": [],
   "source": []
  },
  {
   "cell_type": "code",
   "execution_count": null,
   "metadata": {},
   "outputs": [],
   "source": []
  }
 ],
 "metadata": {
  "kernelspec": {
   "display_name": "Python 3",
   "language": "python",
   "name": "python3"
  },
  "language_info": {
   "codemirror_mode": {
    "name": "ipython",
    "version": 3
   },
   "file_extension": ".py",
   "mimetype": "text/x-python",
   "name": "python",
   "nbconvert_exporter": "python",
   "pygments_lexer": "ipython3",
   "version": "3.7.4"
  }
 },
 "nbformat": 4,
 "nbformat_minor": 2
}
