{
 "cells": [
  {
   "cell_type": "markdown",
   "metadata": {},
   "source": [
    "### 문자열\n",
    "- 타입\n",
    "   \n",
    "   - 단일 데이터 타입\n",
    "        - 문자형(단일형으로 분류하지만, 실체는 연속형)\n",
    "            - \"helloworld\", 'helloworld', \"\"\"..\"\"\",''','''"
   ]
  },
  {
   "cell_type": "code",
   "execution_count": 1,
   "metadata": {},
   "outputs": [
    {
     "data": {
      "text/plain": [
       "('hello 부산대역', str)"
      ]
     },
     "execution_count": 1,
     "metadata": {},
     "output_type": "execute_result"
    }
   ],
   "source": [
    "# 1. 문자열 표기법\n",
    "a = \"hello 부산대역\"\n",
    "a, type(a)"
   ]
  },
  {
   "cell_type": "code",
   "execution_count": 2,
   "metadata": {},
   "outputs": [
    {
     "data": {
      "text/plain": [
       "('hello 부산대역', str)"
      ]
     },
     "execution_count": 2,
     "metadata": {},
     "output_type": "execute_result"
    }
   ],
   "source": [
    "a = \"hello 부산대역\"\n",
    "a, type(a) "
   ]
  },
  {
   "cell_type": "code",
   "execution_count": 3,
   "metadata": {},
   "outputs": [
    {
     "data": {
      "text/plain": [
       "('\\n    select\\n    *\\n    from\\n        users;\\n', str)"
      ]
     },
     "execution_count": 3,
     "metadata": {},
     "output_type": "execute_result"
    }
   ],
   "source": [
    "# 3개짜리 표현은 여러줄 문자열 표현, 문자열의 구조를 유지할때 사용\n",
    "# 파이썬의 주석은 한줄주석만 존재. #\n",
    "# 여러줄 주석은 표현이 따로 없어서 여러줄 표현하는 문자열 구조를 차용\n",
    "a = \"\"\"\n",
    "    select\n",
    "    *\n",
    "    from\n",
    "        users;\n",
    "\"\"\"\n",
    "a, type(a)"
   ]
  },
  {
   "cell_type": "code",
   "execution_count": 4,
   "metadata": {},
   "outputs": [
    {
     "data": {
      "text/plain": [
       "'\\n 3개짜리 표현은 여러줄 문자열 표현, 문자열의 구조를 유지할때 사용\\n 파이썬의 주석은 한줄주석만 존재. #\\n 여러줄 주석은 표현이 따로 없어서 여러줄 표현하는 문자열 구조를 차용\\n'"
      ]
     },
     "execution_count": 4,
     "metadata": {},
     "output_type": "execute_result"
    }
   ],
   "source": [
    "\"\"\"\n",
    " 3개짜리 표현은 여러줄 문자열 표현, 문자열의 구조를 유지할때 사용\n",
    " 파이썬의 주석은 한줄주석만 존재. #\n",
    " 여러줄 주석은 표현이 따로 없어서 여러줄 표현하는 문자열 구조를 차용\n",
    "\"\"\""
   ]
  },
  {
   "cell_type": "code",
   "execution_count": 5,
   "metadata": {},
   "outputs": [
    {
     "name": "stdout",
     "output_type": "stream",
     "text": [
      "abcde\"123\"fghijk\n"
     ]
    }
   ],
   "source": [
    "# 섞어서 표현\n",
    "# 원 문자열에 \"나 '가 포함되어 있어서 그대로 표현하고 싶다면=>혼용\n",
    "a = 'abcde\"123\"fghijk'\n",
    "print( a )"
   ]
  },
  {
   "cell_type": "code",
   "execution_count": 6,
   "metadata": {},
   "outputs": [
    {
     "name": "stdout",
     "output_type": "stream",
     "text": [
      "abcde\"123\"fg'hi'jk\n"
     ]
    }
   ],
   "source": [
    "# 문자열안에 \",'가 다 섞여 있어서 문제가 될경우\n",
    "# 이스케이프 문자 표시법으로 문자열의 구분자가 아님을 표현\n",
    "a = 'abcde\"123\"fg\\'hi\\'jk'\n",
    "print( a )"
   ]
  },
  {
   "cell_type": "code",
   "execution_count": 7,
   "metadata": {},
   "outputs": [
    {
     "data": {
      "text/plain": [
       "('123456', '123', '456')"
      ]
     },
     "execution_count": 7,
     "metadata": {},
     "output_type": "execute_result"
    }
   ],
   "source": [
    "# 2. 문자열 더하기\n",
    "# 여러개의 문자열을 한개의 문자열로 만들기\n",
    "a = '123'\n",
    "b = '456'\n",
    "# 앞문자열에 뒷문자열을 이어붙여서 사본을 리턴한다\n",
    "a + b, a, b"
   ]
  },
  {
   "cell_type": "code",
   "execution_count": 8,
   "metadata": {},
   "outputs": [
    {
     "data": {
      "text/plain": [
       "'=========='"
      ]
     },
     "execution_count": 8,
     "metadata": {},
     "output_type": "execute_result"
    }
   ],
   "source": [
    "# 3. 문자열 곱하기\n",
    "# 해당 문자열을 10번 반복해라\n",
    "'=' * 10 "
   ]
  },
  {
   "cell_type": "code",
   "execution_count": 9,
   "metadata": {},
   "outputs": [
    {
     "data": {
      "text/plain": [
       "'0123456789'"
      ]
     },
     "execution_count": 9,
     "metadata": {},
     "output_type": "execute_result"
    }
   ],
   "source": [
    "# 4. 인덱싱 (indexing)\n",
    "# 문자열에서 특정 문자를 획득(차원 축소라는 의미를 가짐)\n",
    "a = '0123456789'\n",
    "a\n"
   ]
  },
  {
   "cell_type": "code",
   "execution_count": 10,
   "metadata": {},
   "outputs": [
    {
     "data": {
      "text/plain": [
       "('2', '2')"
      ]
     },
     "execution_count": 10,
     "metadata": {},
     "output_type": "execute_result"
    }
   ],
   "source": [
    "# 위의 문자열 a에서 2라는 값을 출력(추출)하시오 -> 인덱싱\n",
    "# 문법\n",
    "# 변수명[ 인덱스(정방향(0,1,2...), 역방향(-1, -2, -3... )) ] \n",
    "# 정방향은 앞에서부터 세고, 역방향은 뒤에서부터 센다\n",
    "# => 본질은 가까운쪽에서 카운트해라\n",
    "# 커서의 오른쪽값을 취한다\n",
    "a[ 2 ], a[ -8 ]"
   ]
  },
  {
   "cell_type": "code",
   "execution_count": 12,
   "metadata": {},
   "outputs": [
    {
     "data": {
      "text/plain": [
       "'https://news.naver.com/main/main.nhn?mode=LSD&mid=shm&sid1=105'"
      ]
     },
     "execution_count": 12,
     "metadata": {},
     "output_type": "execute_result"
    }
   ],
   "source": [
    "# 5 슬라이싱\n",
    "# 문자열에서 특정 위치부터 특정 위치까지 문자열을 추출(자른다)\n",
    "# 원본은 그대로고, 잘라서 사본을 리턴 -> 차원유지\n",
    "tmp= 'https://news.naver.com/main/main.nhn?mode=LSD&mid=shm&sid1=105'\n",
    "tmp"
   ]
  },
  {
   "cell_type": "code",
   "execution_count": null,
   "metadata": {},
   "outputs": [],
   "source": [
    "# 위의 문자열에서 https 라는 문자열을 추출 (결과물이 1개 이상)\n",
    "# 문법 : 변수 [시작인덱스:끝인덱스:step] \n",
    "# step은 생략될수 있고, 생략하면 1이다(1<=step) "
   ]
  },
  {
   "cell_type": "code",
   "execution_count": 13,
   "metadata": {},
   "outputs": [
    {
     "data": {
      "text/plain": [
       "'https://news.naver.com/main/main.nhn?mode=LSD&mid=shm&sid1=105'"
      ]
     },
     "execution_count": 13,
     "metadata": {},
     "output_type": "execute_result"
    }
   ],
   "source": [
    "# 세팅값을 하나도 않쓰고 최소 표현 : 1개만 쓰면? -> copy\n",
    "tmp[:]"
   ]
  },
  {
   "cell_type": "code",
   "execution_count": 14,
   "metadata": {},
   "outputs": [
    {
     "data": {
      "text/plain": [
       "'https'"
      ]
     },
     "execution_count": 14,
     "metadata": {},
     "output_type": "execute_result"
    }
   ],
   "source": [
    "tmp[0:5]"
   ]
  },
  {
   "cell_type": "code",
   "execution_count": 15,
   "metadata": {},
   "outputs": [
    {
     "data": {
      "text/plain": [
       "('hts', 'hp')"
      ]
     },
     "execution_count": 15,
     "metadata": {},
     "output_type": "execute_result"
    }
   ],
   "source": [
    "# step값을 넣어보면\n",
    "tmp[0:5:2],tmp[0:5:3]"
   ]
  },
  {
   "cell_type": "code",
   "execution_count": 16,
   "metadata": {},
   "outputs": [
    {
     "data": {
      "text/plain": [
       "'ttps://news.naver.com/main/main.nhn?mode=LSD&mid=shm&sid1=10'"
      ]
     },
     "execution_count": 16,
     "metadata": {},
     "output_type": "execute_result"
    }
   ],
   "source": [
    "# 앞뒤로 한문자씩 잘라서 출력 => 가까운 방향에서 계산!!\n",
    "tmp[1:-1]\n"
   ]
  },
  {
   "cell_type": "code",
   "execution_count": 17,
   "metadata": {},
   "outputs": [
    {
     "data": {
      "text/plain": [
       "'https://news.naver.com/main/main.nhn?mode=LSD&mid=shm&sid1=105'"
      ]
     },
     "execution_count": 17,
     "metadata": {},
     "output_type": "execute_result"
    }
   ],
   "source": [
    "tmp"
   ]
  },
  {
   "cell_type": "code",
   "execution_count": 21,
   "metadata": {},
   "outputs": [
    {
     "data": {
      "text/plain": [
       "'m'"
      ]
     },
     "execution_count": 21,
     "metadata": {},
     "output_type": "execute_result"
    }
   ],
   "source": [
    "# 문자열의 유니버스[멤버] 함수 \n",
    "# 문자열 지원함수, 문자열 객체의 멤버 함수\n",
    "# 자르기!!\n",
    "a = tmp.split('?')\n",
    "b = a[0]\n",
    "b [-8]"
   ]
  },
  {
   "cell_type": "code",
   "execution_count": 23,
   "metadata": {},
   "outputs": [
    {
     "data": {
      "text/plain": [
       "(str, 'https://news.naver.com/main/main.nhn?mode=LSD&mid=shm&sid1=105')"
      ]
     },
     "execution_count": 23,
     "metadata": {},
     "output_type": "execute_result"
    }
   ],
   "source": [
    "# 데이터를 먼저 확인하고\n",
    "type(tmp), tmp"
   ]
  },
  {
   "cell_type": "code",
   "execution_count": 22,
   "metadata": {},
   "outputs": [
    {
     "data": {
      "text/plain": [
       "'main.nhn'"
      ]
     },
     "execution_count": 22,
     "metadata": {},
     "output_type": "execute_result"
    }
   ],
   "source": [
    "tmp.split('?')[0][-8:]"
   ]
  },
  {
   "cell_type": "code",
   "execution_count": 26,
   "metadata": {},
   "outputs": [
    {
     "data": {
      "text/plain": [
       "'1+2 = 3'"
      ]
     },
     "execution_count": 26,
     "metadata": {},
     "output_type": "execute_result"
    }
   ],
   "source": [
    "# 6. 포맷팅\n",
    "# 문자열 안에 데이터를 넣어서 새로운 문자열을 생성\n",
    "# 6-1 간단한 형식\n",
    "a = 1\n",
    "b = 2\n",
    "# x+y = z 형태로 출력\n",
    "# str(수치) => 문자열 : 형변환\n",
    "# int(\"1\") => 1     : 형변환\n",
    "str(a) + \"+\" + str(b) +\" = \" + str(a+b)"
   ]
  },
  {
   "cell_type": "code",
   "execution_count": 33,
   "metadata": {},
   "outputs": [
    {
     "ename": "SyntaxError",
     "evalue": "invalid syntax (<ipython-input-33-b4ac59faea25>, line 3)",
     "output_type": "error",
     "traceback": [
      "\u001b[1;36m  File \u001b[1;32m\"<ipython-input-33-b4ac59faea25>\"\u001b[1;36m, line \u001b[1;32m3\u001b[0m\n\u001b[1;33m    '%d + %d = %d' % (a, b a+b)\u001b[0m\n\u001b[1;37m                           ^\u001b[0m\n\u001b[1;31mSyntaxError\u001b[0m\u001b[1;31m:\u001b[0m invalid syntax\n"
     ]
    }
   ],
   "source": [
    "# 결론을 쓰고, 데이터를 삽입[세팅, 설정]\n",
    "# %d : 정수, %f: 부동소수, %s : 문자열\n",
    "'%d + %d = %d' % (a, b a+b) "
   ]
  },
  {
   "cell_type": "code",
   "execution_count": 32,
   "metadata": {},
   "outputs": [
    {
     "ename": "SyntaxError",
     "evalue": "invalid syntax (<ipython-input-32-96745b5e6c59>, line 2)",
     "output_type": "error",
     "traceback": [
      "\u001b[1;36m  File \u001b[1;32m\"<ipython-input-32-96745b5e6c59>\"\u001b[1;36m, line \u001b[1;32m2\u001b[0m\n\u001b[1;33m    '%d / %d = %d' % (a, b a/b)\u001b[0m\n\u001b[1;37m                           ^\u001b[0m\n\u001b[1;31mSyntaxError\u001b[0m\u001b[1;31m:\u001b[0m invalid syntax\n"
     ]
    }
   ],
   "source": [
    "# 값이 부동소수인데, 정수로 받으면 소수점이 날라간다\n",
    "'%d / %d = %d' % (a, b a/b) \n"
   ]
  },
  {
   "cell_type": "code",
   "execution_count": null,
   "metadata": {},
   "outputs": [],
   "source": [
    "# 타입에 맞춰서 예상해서 형식을 지정해야한다.\n",
    "'%d / %d = %d' % (a, b a/b) \n"
   ]
  },
  {
   "cell_type": "code",
   "execution_count": null,
   "metadata": {},
   "outputs": [],
   "source": [
    "# %s로 표현하면 타입이 무엇이든 다 문자열을 변환해서 원본값 유지"
   ]
  },
  {
   "cell_type": "code",
   "execution_count": null,
   "metadata": {},
   "outputs": [],
   "source": [
    "%s / %s"
   ]
  },
  {
   "cell_type": "code",
   "execution_count": null,
   "metadata": {},
   "outputs": [],
   "source": [
    "# 위의 표현식은 순서를 조정할수 없다(순서대로 결정된다)\n"
   ]
  },
  {
   "cell_type": "code",
   "execution_count": null,
   "metadata": {},
   "outputs": [],
   "source": [
    "# 사용처 대비 인자가 더 많다 -> 에러 (딱 맞춰서 사용해야한다)"
   ]
  },
  {
   "cell_type": "code",
   "execution_count": 34,
   "metadata": {},
   "outputs": [
    {
     "data": {
      "text/plain": [
       "'1 + 2 = 3'"
      ]
     },
     "execution_count": 34,
     "metadata": {},
     "output_type": "execute_result"
    }
   ],
   "source": [
    "# 6-2 포맷팅\n",
    "# 문자열의 format() 함수를 이용하여 처리\n",
    "# 사용 순서의 유연함, 인자의 이름 지정(명확성 부여), 미사용에도 커버\n",
    "'{} + {} = {}'.format( a, b,a + b )"
   ]
  },
  {
   "cell_type": "code",
   "execution_count": 35,
   "metadata": {},
   "outputs": [
    {
     "data": {
      "text/plain": [
       "'2 + 1 = 3'"
      ]
     },
     "execution_count": 35,
     "metadata": {},
     "output_type": "execute_result"
    }
   ],
   "source": [
    "# 순서를 내 마음대로 배치\n",
    "'{1} + {0} = {2}'.format( a, b, a + b )"
   ]
  },
  {
   "cell_type": "code",
   "execution_count": 36,
   "metadata": {},
   "outputs": [
    {
     "data": {
      "text/plain": [
       "'2 + 2 = 2'"
      ]
     },
     "execution_count": 36,
     "metadata": {},
     "output_type": "execute_result"
    }
   ],
   "source": [
    "# 사용 않한다면 한개를 여러번 사용, 미사용에도 커버\n",
    "'{1} + {1} = {1}'.format( a, b, a + b )"
   ]
  },
  {
   "cell_type": "code",
   "execution_count": 37,
   "metadata": {},
   "outputs": [
    {
     "data": {
      "text/plain": [
       "'1 + 2 = 3'"
      ]
     },
     "execution_count": 37,
     "metadata": {},
     "output_type": "execute_result"
    }
   ],
   "source": [
    "# 각 자리에 명확한 의미를 부여하고 싶다=>매개변수명 지정\n",
    "'{height} + {weight} = {result}'.format( height=a, weight=b, result=a+b )"
   ]
  },
  {
   "cell_type": "code",
   "execution_count": 40,
   "metadata": {},
   "outputs": [
    {
     "data": {
      "text/plain": [
       "'0123456789absdefgABCDEFG!@#$%\"가나다라'"
      ]
     },
     "execution_count": 40,
     "metadata": {},
     "output_type": "execute_result"
    }
   ],
   "source": [
    "# 7. 기타 문자열 지원기능 (멤버함수, 유니버스함수...)\n",
    "a = '0123456789absdefgABCDEFG!@#$%\"가나다라'\n",
    "a"
   ]
  },
  {
   "cell_type": "code",
   "execution_count": 41,
   "metadata": {},
   "outputs": [
    {
     "ename": "SyntaxError",
     "evalue": "invalid syntax (<ipython-input-41-0c7ef33f5bff>, line 2)",
     "output_type": "error",
     "traceback": [
      "\u001b[1;36m  File \u001b[1;32m\"<ipython-input-41-0c7ef33f5bff>\"\u001b[1;36m, line \u001b[1;32m2\u001b[0m\n\u001b[1;33m    '문자열 내에 특정 문가 개수' a count('a')\u001b[0m\n\u001b[1;37m                      ^\u001b[0m\n\u001b[1;31mSyntaxError\u001b[0m\u001b[1;31m:\u001b[0m invalid syntax\n"
     ]
    }
   ],
   "source": [
    "# 카운트, 존재한다\n",
    "'문자열 내에 특정 문자 개a count('a')"
   ]
  },
  {
   "cell_type": "code",
   "execution_count": 42,
   "metadata": {},
   "outputs": [
    {
     "data": {
      "text/plain": [
       "10"
      ]
     },
     "execution_count": 42,
     "metadata": {},
     "output_type": "execute_result"
    }
   ],
   "source": [
    "# 문자열내에 위치 확인, 존재한다여부\n",
    "a. index('a')\n"
   ]
  },
  {
   "cell_type": "code",
   "execution_count": 43,
   "metadata": {},
   "outputs": [
    {
     "ename": "ValueError",
     "evalue": "substring not found",
     "output_type": "error",
     "traceback": [
      "\u001b[1;31m---------------------------------------------------------------------------\u001b[0m",
      "\u001b[1;31mValueError\u001b[0m                                Traceback (most recent call last)",
      "\u001b[1;32m<ipython-input-43-311903fcab0b>\u001b[0m in \u001b[0;36m<module>\u001b[1;34m\u001b[0m\n\u001b[0;32m      1\u001b[0m \u001b[1;31m# 없는 문자열의 인덱스를 찾으면 에러 -> 예외처리 해야함\u001b[0m\u001b[1;33m\u001b[0m\u001b[1;33m\u001b[0m\u001b[1;33m\u001b[0m\u001b[0m\n\u001b[1;32m----> 2\u001b[1;33m \u001b[0ma\u001b[0m\u001b[1;33m.\u001b[0m \u001b[0mindex\u001b[0m\u001b[1;33m(\u001b[0m\u001b[1;34m'h'\u001b[0m\u001b[1;33m)\u001b[0m\u001b[1;33m\u001b[0m\u001b[1;33m\u001b[0m\u001b[0m\n\u001b[0m",
      "\u001b[1;31mValueError\u001b[0m: substring not found"
     ]
    }
   ],
   "source": [
    "# 없는 문자열의 인덱스를 찾으면 에러 -> 예외처리 해야함\n",
    "a. index('h')"
   ]
  },
  {
   "cell_type": "code",
   "execution_count": 45,
   "metadata": {},
   "outputs": [
    {
     "data": {
      "text/plain": [
       "(10, -1, -1)"
      ]
     },
     "execution_count": 45,
     "metadata": {},
     "output_type": "execute_result"
    }
   ],
   "source": [
    "# 특정문자가 존재하면 그 인덱스(위치)를 변환,\n",
    "# 없으면 -1를 리턴\n",
    "a.find('a'), a.find('h'), a.find('z')"
   ]
  },
  {
   "cell_type": "code",
   "execution_count": null,
   "metadata": {},
   "outputs": [],
   "source": [
    "# count(), index(), find() 함수들은 문자열내에 문자열의 \n",
    "# 존재여부, 위치 등 탐색을 수행하는 함수들이다"
   ]
  },
  {
   "cell_type": "code",
   "execution_count": 46,
   "metadata": {},
   "outputs": [
    {
     "data": {
      "text/plain": [
       "'123456789'"
      ]
     },
     "execution_count": 46,
     "metadata": {},
     "output_type": "execute_result"
    }
   ],
   "source": [
    "#8 조인, 분해\n",
    "a = '123456789'\n",
    "a"
   ]
  },
  {
   "cell_type": "code",
   "execution_count": 50,
   "metadata": {},
   "outputs": [
    {
     "data": {
      "text/plain": [
       "'1ㅣ2ㅣ3ㅣ4ㅣ5ㅣ6ㅣ7ㅣ8ㅣ9'"
      ]
     },
     "execution_count": 50,
     "metadata": {},
     "output_type": "execute_result"
    }
   ],
   "source": [
    "# 조인\n",
    "# 대상 문자열 문자 사이사이에 특정한 문자열을 넣겠다\n",
    "tmp = 'ㅣ'.join( a )\n",
    "tmp"
   ]
  },
  {
   "cell_type": "code",
   "execution_count": 51,
   "metadata": {},
   "outputs": [
    {
     "data": {
      "text/plain": [
       "['1ㅣ2ㅣ3ㅣ4ㅣ5ㅣ6ㅣ7ㅣ8ㅣ9']"
      ]
     },
     "execution_count": 51,
     "metadata": {},
     "output_type": "execute_result"
    }
   ],
   "source": [
    "# 분해 \n",
    "# 문자열을 특정 문자를 기준으로 쪼갠다(분해)\n",
    "tmp.split('l')"
   ]
  },
  {
   "cell_type": "code",
   "execution_count": 52,
   "metadata": {},
   "outputs": [
    {
     "data": {
      "text/plain": [
       "['1', '2', '3', '4', '5', '6', '7', '8', '9']"
      ]
     },
     "execution_count": 52,
     "metadata": {},
     "output_type": "execute_result"
    }
   ],
   "source": [
    "# 참고로 확인(조인 , 분해과정을 거쳐서 자동생성)\n",
    "list(a)"
   ]
  },
  {
   "cell_type": "code",
   "execution_count": 58,
   "metadata": {},
   "outputs": [
    {
     "data": {
      "text/plain": [
       "'\\n\\t\\t\\t\\t\\n\\t\\t\\t\\t\\t\\n\\t\\t\\t\\t\\t\\n\\t\\t\\t\\t\\t\\n\\t\\t\\t\\t\\t미국 USD\\n\\t\\t\\t\\t\\n\\t\\t\\t\\t'"
      ]
     },
     "execution_count": 58,
     "metadata": {},
     "output_type": "execute_result"
    }
   ],
   "source": [
    "# 9. 공백제거\n",
    "tmp = \"\"\"\n",
    "\t\t\t\t\n",
    "\t\t\t\t\t\n",
    "\t\t\t\t\t\n",
    "\t\t\t\t\t\n",
    "\t\t\t\t\t미국 USD\n",
    "\t\t\t\t\n",
    "\t\t\t\t\"\"\"\n",
    "tmp"
   ]
  },
  {
   "cell_type": "code",
   "execution_count": 53,
   "metadata": {},
   "outputs": [
    {
     "data": {
      "text/plain": [
       "'[1ㅣ2ㅣ3ㅣ4ㅣ5ㅣ6ㅣ7ㅣ8ㅣ9]'"
      ]
     },
     "execution_count": 53,
     "metadata": {},
     "output_type": "execute_result"
    }
   ],
   "source": [
    "# 앞, 뒤, 앞뒤 이렇게 공백을 제거하는 함수에서 지원\n",
    "# 제이터의 내부 공백은 정규식으로 처리하여 제거 가능\n",
    "'[%s]'% tmp"
   ]
  },
  {
   "cell_type": "code",
   "execution_count": null,
   "metadata": {},
   "outputs": [],
   "source": [
    "'[%s]'% tmp"
   ]
  },
  {
   "cell_type": "code",
   "execution_count": null,
   "metadata": {},
   "outputs": [],
   "source": [
    "# 10. 문자열 대체"
   ]
  },
  {
   "cell_type": "code",
   "execution_count": 65,
   "metadata": {},
   "outputs": [
    {
     "data": {
      "text/plain": [
       "\"\\nThe Gascon campaign of 1345, part of the Hundred Years' War, was fought between August and November \\nin English-controlled Gascony in south-west France. Henry, Earl of Derby, commanding an Anglo-Gascon force, \\nmet a large French force at Bergerac, east of Bordeaux, and decisively defeated it.\\nHe moved to besiege the provincial \\ncapital of Périgueux, but was threatened by a much larger force commanded by John, Duke of Normandy, the son and heir \\nof the French king.\""
      ]
     },
     "execution_count": 65,
     "metadata": {},
     "output_type": "execute_result"
    }
   ],
   "source": [
    "# 특정문자를 특정문자로 대체\n",
    "# 좀더 발전적인 표현은 정규식이다\n",
    "# 간단하게 특정문자를 대체할 경우 사용->모든 문자열에 적용\n",
    "a = '''\n",
    "The Gascon campaign of 1345, part of the Hundred Years' War, was fought between August and November \n",
    "in English-controlled Gascony in south-west France. Henry, Earl of Derby, commanding an Anglo-Gascon force, \n",
    "met a large French force at Bergerac, east of Bordeaux, and decisively defeated it.\n",
    "He moved to besiege the provincial \n",
    "capital of Périgueux, but was threatened by a much larger force commanded by John, Duke of Normandy, the son and heir \n",
    "of the French king.'''\n",
    "a"
   ]
  },
  {
   "cell_type": "code",
   "execution_count": null,
   "metadata": {},
   "outputs": [],
   "source": []
  },
  {
   "cell_type": "code",
   "execution_count": null,
   "metadata": {},
   "outputs": [],
   "source": [
    "# 11. 자리칸 배치및 치환식"
   ]
  },
  {
   "cell_type": "code",
   "execution_count": 66,
   "metadata": {},
   "outputs": [
    {
     "data": {
      "text/plain": [
       "'[abcdef]'"
      ]
     },
     "execution_count": 66,
     "metadata": {},
     "output_type": "execute_result"
    }
   ],
   "source": [
    "'[%s]' % 'abcdef'"
   ]
  },
  {
   "cell_type": "code",
   "execution_count": 68,
   "metadata": {},
   "outputs": [
    {
     "data": {
      "text/plain": [
       "'[abcdef    ]'"
      ]
     },
     "execution_count": 68,
     "metadata": {},
     "output_type": "execute_result"
    }
   ],
   "source": [
    "# 위의 문자열을 10칸에 재워라[10칸]\n",
    "# 플러스 마이너스 상관없다 앞뒤 위치만 바뀔뿐\n",
    "'[%-10s]' % 'abcdef'"
   ]
  },
  {
   "cell_type": "code",
   "execution_count": 71,
   "metadata": {},
   "outputs": [
    {
     "data": {
      "text/plain": [
       "'[3.145679]'"
      ]
     },
     "execution_count": 71,
     "metadata": {},
     "output_type": "execute_result"
    }
   ],
   "source": [
    "# 소수점 6자리로 나오고 반올림된다\n",
    "'[%f]' % 3.1456789\n"
   ]
  },
  {
   "cell_type": "code",
   "execution_count": 74,
   "metadata": {},
   "outputs": [
    {
     "ename": "ValueError",
     "evalue": "unsupported format character ',' (0x2c) at index 5",
     "output_type": "error",
     "traceback": [
      "\u001b[1;31m---------------------------------------------------------------------------\u001b[0m",
      "\u001b[1;31mValueError\u001b[0m                                Traceback (most recent call last)",
      "\u001b[1;32m<ipython-input-74-1c424861f873>\u001b[0m in \u001b[0;36m<module>\u001b[1;34m\u001b[0m\n\u001b[1;32m----> 1\u001b[1;33m \u001b[1;34m'[%-10,2f]'\u001b[0m \u001b[1;33m%\u001b[0m \u001b[1;36m3.1456789\u001b[0m\u001b[1;33m\u001b[0m\u001b[1;33m\u001b[0m\u001b[0m\n\u001b[0m",
      "\u001b[1;31mValueError\u001b[0m: unsupported format character ',' (0x2c) at index 5"
     ]
    }
   ],
   "source": [
    "'[%-10,2f]' % 3.1456789"
   ]
  },
  {
   "cell_type": "code",
   "execution_count": 78,
   "metadata": {},
   "outputs": [
    {
     "data": {
      "text/plain": [
       "\"123가'456\""
      ]
     },
     "execution_count": 78,
     "metadata": {},
     "output_type": "execute_result"
    }
   ],
   "source": [
    "\"123{0}'456\" .format('가')"
   ]
  },
  {
   "cell_type": "code",
   "execution_count": null,
   "metadata": {},
   "outputs": [],
   "source": [
    "\"123{0}'456\" .format('가')"
   ]
  },
  {
   "cell_type": "code",
   "execution_count": null,
   "metadata": {},
   "outputs": [],
   "source": [
    "# 짝수칸이면 앞쪽으로 치우치고, 홀수칸이면 정중앙"
   ]
  },
  {
   "cell_type": "code",
   "execution_count": null,
   "metadata": {},
   "outputs": [],
   "source": []
  },
  {
   "cell_type": "code",
   "execution_count": null,
   "metadata": {},
   "outputs": [],
   "source": []
  },
  {
   "cell_type": "code",
   "execution_count": null,
   "metadata": {},
   "outputs": [],
   "source": []
  },
  {
   "cell_type": "code",
   "execution_count": null,
   "metadata": {},
   "outputs": [],
   "source": []
  },
  {
   "cell_type": "code",
   "execution_count": null,
   "metadata": {},
   "outputs": [],
   "source": []
  },
  {
   "cell_type": "code",
   "execution_count": null,
   "metadata": {},
   "outputs": [],
   "source": []
  },
  {
   "cell_type": "code",
   "execution_count": null,
   "metadata": {},
   "outputs": [],
   "source": []
  },
  {
   "cell_type": "code",
   "execution_count": null,
   "metadata": {},
   "outputs": [],
   "source": []
  },
  {
   "cell_type": "code",
   "execution_count": null,
   "metadata": {},
   "outputs": [],
   "source": []
  },
  {
   "cell_type": "code",
   "execution_count": null,
   "metadata": {},
   "outputs": [],
   "source": []
  },
  {
   "cell_type": "code",
   "execution_count": null,
   "metadata": {},
   "outputs": [],
   "source": []
  },
  {
   "cell_type": "code",
   "execution_count": null,
   "metadata": {},
   "outputs": [],
   "source": []
  },
  {
   "cell_type": "code",
   "execution_count": null,
   "metadata": {},
   "outputs": [],
   "source": []
  },
  {
   "cell_type": "code",
   "execution_count": null,
   "metadata": {},
   "outputs": [],
   "source": []
  },
  {
   "cell_type": "code",
   "execution_count": null,
   "metadata": {},
   "outputs": [],
   "source": []
  },
  {
   "cell_type": "code",
   "execution_count": null,
   "metadata": {},
   "outputs": [],
   "source": []
  }
 ],
 "metadata": {
  "kernelspec": {
   "display_name": "Python 3",
   "language": "python",
   "name": "python3"
  },
  "language_info": {
   "codemirror_mode": {
    "name": "ipython",
    "version": 3
   },
   "file_extension": ".py",
   "mimetype": "text/x-python",
   "name": "python",
   "nbconvert_exporter": "python",
   "pygments_lexer": "ipython3",
   "version": "3.7.4"
  }
 },
 "nbformat": 4,
 "nbformat_minor": 2
}
